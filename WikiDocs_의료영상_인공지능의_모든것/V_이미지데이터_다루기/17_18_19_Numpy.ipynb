{
 "cells": [
  {
   "cell_type": "markdown",
   "id": "cf622e53",
   "metadata": {},
   "source": [
    "Day 17"
   ]
  },
  {
   "cell_type": "code",
   "execution_count": 1,
   "id": "5aad3bfb",
   "metadata": {},
   "outputs": [
    {
     "name": "stdout",
     "output_type": "stream",
     "text": [
      "a : [1 2 3 4]\n",
      "b :  [1.   2.   3.14 4.  ]\n",
      "a.dtype :  int64\n",
      "b.dtype :  float64\n"
     ]
    }
   ],
   "source": [
    "import numpy as np\n",
    "\n",
    "# 지정된 값으로 배열 생성\n",
    "a = np.array([1,2,3,4])\n",
    "b = np.array([1,2,3.14,4])\n",
    "\n",
    "print('a :', a) \n",
    "print('b : ', b) \n",
    "\n",
    "print('a.dtype : ',a.dtype) \n",
    "print('b.dtype : ',b.dtype) "
   ]
  },
  {
   "cell_type": "code",
   "execution_count": 2,
   "id": "fba3b0de",
   "metadata": {},
   "outputs": [
    {
     "name": "stdout",
     "output_type": "stream",
     "text": [
      "c :  [1. 2. 3. 4.]\n",
      "c.dtype :  float32\n"
     ]
    }
   ],
   "source": [
    "c = np.array([1,2,3,4], dtype=np.float32)\n",
    "\n",
    "print('c : ',c)\n",
    "print('c.dtype : ',c.dtype)"
   ]
  },
  {
   "cell_type": "code",
   "execution_count": 3,
   "id": "4ee90516",
   "metadata": {},
   "outputs": [
    {
     "name": "stdout",
     "output_type": "stream",
     "text": [
      "[[0. 0. 0.]\n",
      " [0. 0. 0.]\n",
      " [0. 0. 0.]\n",
      " [0. 0. 0.]]\n"
     ]
    }
   ],
   "source": [
    "# empty() 함수를 사용해서 배열 생성\n",
    "empty=np.empty((4, 3))\n",
    "\n",
    "print(empty)"
   ]
  },
  {
   "cell_type": "code",
   "execution_count": 4,
   "id": "415666e7",
   "metadata": {},
   "outputs": [
    {
     "name": "stdout",
     "output_type": "stream",
     "text": [
      "zero: [[0. 0. 0.]\n",
      " [0. 0. 0.]]\n",
      "one: [[1. 1. 1.]\n",
      " [1. 1. 1.]]\n",
      "seven: [[7 7 7]\n",
      " [7 7 7]]\n"
     ]
    }
   ],
   "source": [
    "# zeros(), ones(), full() 함수를 사용해서 각각의 배열 생성\n",
    "zero = np.zeros((2,3))\n",
    "one= np.ones((2,3))\n",
    "seven= np.full([2,3],7)\n",
    "\n",
    "print(\"zero:\",zero)\n",
    "print(\"one:\",one)\n",
    "print(\"seven:\",seven)"
   ]
  },
  {
   "cell_type": "code",
   "execution_count": 5,
   "id": "1f0b8a3a",
   "metadata": {},
   "outputs": [
    {
     "name": "stdout",
     "output_type": "stream",
     "text": [
      "[10 11 12 13 14 15 16 17 18 19]\n"
     ]
    }
   ],
   "source": [
    "arr = np.arange(10,  20)\n",
    "\n",
    "print(arr)"
   ]
  },
  {
   "cell_type": "code",
   "execution_count": 6,
   "id": "e54aa2a8",
   "metadata": {},
   "outputs": [
    {
     "name": "stdout",
     "output_type": "stream",
     "text": [
      "[10 15 20 25 30 35 40 45]\n"
     ]
    }
   ],
   "source": [
    "arr = np.arange(10, 50, 5)\n",
    "\n",
    "print(arr)"
   ]
  },
  {
   "cell_type": "code",
   "execution_count": 7,
   "id": "69401329",
   "metadata": {},
   "outputs": [
    {
     "name": "stdout",
     "output_type": "stream",
     "text": [
      "[0.5488135  0.71518937 0.60276338 0.54488318 0.4236548  0.64589411\n",
      " 0.43758721]\n"
     ]
    }
   ],
   "source": [
    "# 0이라는 시드값 설정\n",
    "np.random.seed(0)\n",
    "\n",
    "# 난수로 1차원 배열 생성  \n",
    "a = np.random.rand(7)\n",
    "\n",
    "print(a)"
   ]
  },
  {
   "cell_type": "code",
   "execution_count": 8,
   "id": "63b9f3a0",
   "metadata": {},
   "outputs": [
    {
     "name": "stdout",
     "output_type": "stream",
     "text": [
      "a:\n",
      " [[0.891773   0.96366276 0.38344152 0.79172504]\n",
      " [0.52889492 0.56804456 0.92559664 0.07103606]]\n",
      "b:\n",
      " [[[0.0871293  0.0202184  0.83261985]\n",
      "  [0.77815675 0.87001215 0.97861834]]\n",
      "\n",
      " [[0.79915856 0.46147936 0.78052918]\n",
      "  [0.11827443 0.63992102 0.14335329]]\n",
      "\n",
      " [[0.94466892 0.52184832 0.41466194]\n",
      "  [0.26455561 0.77423369 0.45615033]]\n",
      "\n",
      " [[0.56843395 0.0187898  0.6176355 ]\n",
      "  [0.61209572 0.616934   0.94374808]]]\n"
     ]
    }
   ],
   "source": [
    "# 난수로 다차원 배열 생성\n",
    "a = np.random.rand(2,4)\n",
    "b = np.random.rand(4,2,3)\n",
    "\n",
    "print(\"a:\\n\", a)\n",
    "print(\"b:\\n\", b)"
   ]
  },
  {
   "cell_type": "markdown",
   "id": "8f48c35c",
   "metadata": {},
   "source": [
    "Day 17-3. Numpy 배열 변형하기"
   ]
  },
  {
   "cell_type": "code",
   "execution_count": 9,
   "id": "9093f3be",
   "metadata": {},
   "outputs": [
    {
     "name": "stdout",
     "output_type": "stream",
     "text": [
      "[1 2 3]\n",
      "int64\n",
      "[1. 2. 3.]\n",
      "float32\n"
     ]
    }
   ],
   "source": [
    "# 지정된 값으로 배열 생성\n",
    "a = np.array([1, 2, 3])\n",
    "\n",
    "print(a) # 출력: [1 2 3]\n",
    "print(a.dtype) # 출력: int64\n",
    "\n",
    "# 배열의 dtype 변경\n",
    "a_float = a.astype('float32')\n",
    "\n",
    "print(a_float)\n",
    "print(a_float.dtype)"
   ]
  },
  {
   "cell_type": "code",
   "execution_count": 10,
   "id": "35e6ca89",
   "metadata": {},
   "outputs": [
    {
     "name": "stdout",
     "output_type": "stream",
     "text": [
      "a:\n",
      " [ 0  1  2  3  4  5  6  7  8  9 10 11]\n",
      "b:\n",
      " [[ 0  1  2  3]\n",
      " [ 4  5  6  7]\n",
      " [ 8  9 10 11]]\n"
     ]
    }
   ],
   "source": [
    "#순차적인 값으로 배열 생성\n",
    "a = np.arange(12)\n",
    "\n",
    "# 배열의 shape 변경\n",
    "b = a.reshape(3, 4)\n",
    "\n",
    "print(\"a:\\n\", a)\n",
    "print(\"b:\\n\", b)"
   ]
  },
  {
   "cell_type": "code",
   "execution_count": 11,
   "id": "87f950a2",
   "metadata": {},
   "outputs": [
    {
     "name": "stdout",
     "output_type": "stream",
     "text": [
      "reshape 1:\n",
      " [[ 1  2]\n",
      " [ 3  4]\n",
      " [ 5  6]\n",
      " [ 7  8]\n",
      " [ 9 10]\n",
      " [11 12]]\n",
      "reshape 2:\n",
      " [[ 1  2]\n",
      " [ 3  4]\n",
      " [ 5  6]\n",
      " [ 7  8]\n",
      " [ 9 10]\n",
      " [11 12]]\n"
     ]
    }
   ],
   "source": [
    "# 지정된 값으로 다차원 배열 생성\n",
    "arr = np.array([[1, 2, 3, 4], [5, 6, 7, 8], [9, 10, 11, 12]])\n",
    "\n",
    "# 변경할 shape 설정\n",
    "shape1 = (6, 2)\n",
    "shape2 = (-1, 2)\n",
    "\n",
    "# 배열의 shape 변경\n",
    "output1 = np.reshape(arr, shape1)\n",
    "output2 = np.reshape(arr, shape2)\n",
    "\n",
    "print(\"reshape 1:\\n\",output1)\n",
    "print(\"reshape 2:\\n\", output2)"
   ]
  },
  {
   "cell_type": "code",
   "execution_count": 12,
   "id": "7baf6632",
   "metadata": {},
   "outputs": [
    {
     "name": "stdout",
     "output_type": "stream",
     "text": [
      "[ 1  2  3  4  5  6  7  8  9 10 11 12]\n",
      "[ 1  2  3  4  5  6  7  8  9 10 11 12]\n"
     ]
    }
   ],
   "source": [
    "# 지정된 값으로 다차원 배열 생성\n",
    "arr = np.array([[1, 2, 3, 4], [5, 6, 7, 8], [9, 10, 11, 12]])\n",
    "\n",
    "# 다차원 배열을 1차원 배열로 변경\n",
    "print(arr.flatten()) # 출력: [ 1  2  3  4  5  6  7  8  9 10 11 12]\n",
    "print(arr.ravel()) # 출력: [ 1  2  3  4  5  6  7  8  9 10 11 12]"
   ]
  },
  {
   "cell_type": "code",
   "execution_count": 13,
   "id": "a779a59e",
   "metadata": {},
   "outputs": [
    {
     "name": "stdout",
     "output_type": "stream",
     "text": [
      "[[1 5]\n",
      " [2 6]\n",
      " [3 7]\n",
      " [4 8]]\n"
     ]
    }
   ],
   "source": [
    "# 지정된 값으로 다차원 배열 생성\n",
    "arr = np.array([[1, 2, 3, 4], [5, 6, 7, 8]])\n",
    "\n",
    "# 배열의 전치 연산\n",
    "print(arr.T)"
   ]
  },
  {
   "cell_type": "code",
   "execution_count": 14,
   "id": "8aaa7b20",
   "metadata": {},
   "outputs": [
    {
     "name": "stdout",
     "output_type": "stream",
     "text": [
      "(3, 4, 5)\n",
      "(4, 5, 3)\n"
     ]
    }
   ],
   "source": [
    "# 난수로 배열 생성\n",
    "a = np.random.rand(3, 4, 5)\n",
    "\n",
    "# 첫 번째 축을 마지막 축으로 이동\n",
    "result = np.moveaxis(a, 0, -1)\n",
    "\n",
    "print(a.shape) # 출력: (3, 4, 5)\n",
    "print(result.shape) # 출력: (4, 5, 3)"
   ]
  },
  {
   "cell_type": "code",
   "execution_count": 15,
   "id": "c46897fa",
   "metadata": {},
   "outputs": [
    {
     "name": "stdout",
     "output_type": "stream",
     "text": [
      "Numpy Array : [ 1  2  3  4  5 10 15]\n",
      "List : [1, 2, 3, 4, 5, 10, 15]\n"
     ]
    }
   ],
   "source": [
    "import numpy\n",
    "# numpy 배열 생성\n",
    "arr = numpy.array([1, 2, 3, 4, 5, 10, 15])\n",
    "\n",
    "# numpy 배열을 list로 변경\n",
    "x = arr.tolist()\n",
    "\n",
    "print(\"Numpy Array :\", arr) # 출력: Numpy Array : [ 1  2  3  4  5 10 15]\n",
    "print(\"List :\", x) # 출력: List : [1, 2, 3, 4, 5, 10, 15]\n"
   ]
  },
  {
   "cell_type": "code",
   "execution_count": 16,
   "id": "26c95275",
   "metadata": {},
   "outputs": [
    {
     "name": "stdout",
     "output_type": "stream",
     "text": [
      "Numpy Array :\n",
      " [[1 2]\n",
      " [3 4]]\n",
      "List :\n",
      " [[1, 2], [3, 4]]\n"
     ]
    }
   ],
   "source": [
    "# 다차원 numpy 배열 생성\n",
    "arr = numpy.array([[1, 2], [3, 4]])\n",
    "\n",
    "# 다차원 numpy 배열을 list로 변경\n",
    "x = arr.tolist()\n",
    "\n",
    "print(\"Numpy Array :\\n\", arr)\n",
    "print(\"List :\\n\", x)"
   ]
  },
  {
   "cell_type": "markdown",
   "id": "0d2c3787",
   "metadata": {},
   "source": [
    "Numpy2"
   ]
  },
  {
   "cell_type": "code",
   "execution_count": 17,
   "id": "a2b411b1",
   "metadata": {},
   "outputs": [
    {
     "name": "stdout",
     "output_type": "stream",
     "text": [
      "3\n"
     ]
    }
   ],
   "source": [
    "# 1차원 배열 생성\n",
    "arr = np.array([1, 2, 3, 4, 5])\n",
    "\n",
    "print(arr[2])"
   ]
  },
  {
   "cell_type": "code",
   "execution_count": 18,
   "id": "81beb88a",
   "metadata": {},
   "outputs": [
    {
     "name": "stdout",
     "output_type": "stream",
     "text": [
      "6\n"
     ]
    }
   ],
   "source": [
    "# 다차원 배열 생성\n",
    "arr_2d = np.array([[1, 2, 3], [4, 5, 6], [7, 8, 9]])\n",
    "\n",
    "print(arr_2d[1, 2])"
   ]
  },
  {
   "cell_type": "code",
   "execution_count": 19,
   "id": "d74e76d5",
   "metadata": {},
   "outputs": [
    {
     "name": "stdout",
     "output_type": "stream",
     "text": [
      "[2 3 4]\n"
     ]
    }
   ],
   "source": [
    "# 1차원 배열 생성\n",
    "arr = np.array([1, 2, 3, 4, 5])\n",
    "\n",
    "print(arr[1:4])"
   ]
  },
  {
   "cell_type": "code",
   "execution_count": 20,
   "id": "12fe84d5",
   "metadata": {},
   "outputs": [
    {
     "name": "stdout",
     "output_type": "stream",
     "text": [
      "[[5 6]\n",
      " [8 9]]\n"
     ]
    }
   ],
   "source": [
    "# 다차원 배열 생성\n",
    "arr_2d = np.array([[1, 2, 3], [4, 5, 6], [7, 8, 9]])\n",
    "\n",
    "print(arr_2d[1:, 1:3])"
   ]
  },
  {
   "cell_type": "code",
   "execution_count": 21,
   "id": "2f16a593",
   "metadata": {},
   "outputs": [
    {
     "name": "stdout",
     "output_type": "stream",
     "text": [
      "[4 5]\n"
     ]
    }
   ],
   "source": [
    "# 1차원 배열 생성\n",
    "arr = np.array([1, 2, 3, 4, 5])\n",
    "\n",
    "# 배열에서 3보다 큰 값들만 선택\n",
    "result = arr[arr > 3]\n",
    "\n",
    "print(result)"
   ]
  },
  {
   "cell_type": "code",
   "execution_count": 22,
   "id": "33ce0e7c",
   "metadata": {},
   "outputs": [
    {
     "name": "stdout",
     "output_type": "stream",
     "text": [
      "[11 33 55 77 99]\n"
     ]
    }
   ],
   "source": [
    "# 1차원 배열 생성\n",
    "a = np.array([11, 22, 33, 44, 55, 66, 77, 88, 99])\n",
    "\n",
    "# 홀수번째 원소 indexing을 위한 인덱스 배열 생성\n",
    "idx = np.array([0, 2, 4, 6, 8])\n",
    "\n",
    "print(a[idx])"
   ]
  },
  {
   "cell_type": "code",
   "execution_count": 23,
   "id": "3fa01bba",
   "metadata": {},
   "outputs": [
    {
     "name": "stdout",
     "output_type": "stream",
     "text": [
      "indexing1:\n",
      " [[ 1  4]\n",
      " [ 5  8]\n",
      " [ 9 12]]\n",
      "indexing2:\n",
      " [[ 9 10 11 12]\n",
      " [ 1  2  3  4]\n",
      " [ 5  6  7  8]]\n"
     ]
    }
   ],
   "source": [
    "a = np.array([[1, 2, 3, 4], [5, 6, 7, 8], [9, 10, 11, 12]])\n",
    "\n",
    "indexing1= a[:, [True, False, False, True]]\n",
    "\n",
    "indexing2= a[[2, 0, 1], :]\n",
    "\n",
    "print(\"indexing1:\\n\",indexing1)\n",
    "print(\"indexing2:\\n\",indexing2)"
   ]
  },
  {
   "cell_type": "markdown",
   "id": "b952b62d",
   "metadata": {},
   "source": [
    "Day 18-2. Numpy 배열의 병합"
   ]
  },
  {
   "cell_type": "code",
   "execution_count": 24,
   "id": "639d7ddd",
   "metadata": {},
   "outputs": [
    {
     "name": "stdout",
     "output_type": "stream",
     "text": [
      "[[1 2]\n",
      " [3 4]\n",
      " [5 6]]\n"
     ]
    }
   ],
   "source": [
    "arr1 = np.array([[1, 2], [3, 4]])\n",
    "arr2 = np.array([[5, 6]])\n",
    "\n",
    "result = np.concatenate((arr1, arr2), axis=0)\n",
    "print(result)"
   ]
  },
  {
   "cell_type": "code",
   "execution_count": 25,
   "id": "a5e69502",
   "metadata": {},
   "outputs": [
    {
     "name": "stdout",
     "output_type": "stream",
     "text": [
      "[[1 2]\n",
      " [3 4]]\n"
     ]
    }
   ],
   "source": [
    "import numpy as np\n",
    "\n",
    "arr1 = np.array([1, 2])\n",
    "arr2 = np.array([3, 4])\n",
    "\n",
    "result = np.stack((arr1, arr2), axis=0)\n",
    "print(result)"
   ]
  },
  {
   "cell_type": "code",
   "execution_count": 26,
   "id": "2a122dc8",
   "metadata": {},
   "outputs": [
    {
     "name": "stdout",
     "output_type": "stream",
     "text": [
      "concatenate:\n",
      " [[1 2]\n",
      " [3 4]\n",
      " [5 6]\n",
      " [7 8]]\n",
      "stack:\n",
      " [[[1 2]\n",
      "  [3 4]]\n",
      "\n",
      " [[5 6]\n",
      "  [7 8]]]\n"
     ]
    }
   ],
   "source": [
    "a = np.array([[1, 2], [3, 4]]) # a.shape=(2, 2)\n",
    "b = np.array([[5, 6], [7, 8]]) # b.shape=(2, 2)\n",
    "\n",
    "print(\"concatenate:\\n\", np.concatenate((a, b), axis=0)) # shape=(4, 2)\n",
    "print(\"stack:\\n\", np.stack((a, b), axis=0)) # shape=(2, 2, 2)"
   ]
  },
  {
   "cell_type": "code",
   "execution_count": 27,
   "id": "28a07d35",
   "metadata": {},
   "outputs": [
    {
     "name": "stdout",
     "output_type": "stream",
     "text": [
      "concatenate:\n",
      " [[[1 2]\n",
      "  [3 4]]\n",
      "\n",
      " [[5 6]\n",
      "  [7 8]]]\n",
      "stack:\n",
      " [[[1 2]\n",
      "  [3 4]]\n",
      "\n",
      " [[5 6]\n",
      "  [7 8]]]\n"
     ]
    }
   ],
   "source": [
    "a = np.array([[1, 2], [3, 4]]) # a.shape=(2, 2)\n",
    "b = np.array([[5, 6], [7, 8]]) # b.shape=(2, 2)\n",
    "\n",
    "a_re = a.reshape((1, 2, 2))\n",
    "b_re = b.reshape((1, 2, 2))\n",
    "\n",
    "print(\"concatenate:\\n\",np.concatenate((a_re, b_re), axis=0))# shape=(2, 2, 2)\n",
    "print(\"stack:\\n\",np.stack((a, b), axis=0)) # shape=(2, 2, 2)"
   ]
  },
  {
   "cell_type": "code",
   "execution_count": 28,
   "id": "d132004e",
   "metadata": {},
   "outputs": [
    {
     "name": "stdout",
     "output_type": "stream",
     "text": [
      "[array([1, 2]), array([3, 4]), array([5, 6])]\n"
     ]
    }
   ],
   "source": [
    "x = np.array([1, 2, 3, 4, 5, 6])\n",
    "\n",
    "print(np.split(x, 3))  # 출력: array([1, 2]), array([3, 4]), array([5, 6])\n"
   ]
  },
  {
   "cell_type": "code",
   "execution_count": 29,
   "id": "e227ac35",
   "metadata": {},
   "outputs": [
    {
     "name": "stdout",
     "output_type": "stream",
     "text": [
      "[array([1, 2]), array([3, 4]), array([5, 6])]\n"
     ]
    }
   ],
   "source": [
    "x = np.array([1, 2, 3, 4, 5, 6])\n",
    "\n",
    "print(np.split(x, [2, 4]))"
   ]
  },
  {
   "cell_type": "markdown",
   "id": "396250ce",
   "metadata": {},
   "source": [
    "19. numpy 3"
   ]
  },
  {
   "cell_type": "code",
   "execution_count": 30,
   "id": "ea6d5ac4",
   "metadata": {},
   "outputs": [
    {
     "name": "stdout",
     "output_type": "stream",
     "text": [
      "3.0\n"
     ]
    }
   ],
   "source": [
    "arr = np.array([1, 2, 3, 4, 5])\n",
    "\n",
    "print(np.mean(arr))"
   ]
  },
  {
   "cell_type": "code",
   "execution_count": 31,
   "id": "7efc373f",
   "metadata": {},
   "outputs": [
    {
     "name": "stdout",
     "output_type": "stream",
     "text": [
      "2.0\n"
     ]
    }
   ],
   "source": [
    "arr = np.array([1, 2, 3, 4, 5])\n",
    "\n",
    "print(np.var(arr))"
   ]
  },
  {
   "cell_type": "code",
   "execution_count": 32,
   "id": "c1a929f5",
   "metadata": {},
   "outputs": [
    {
     "name": "stdout",
     "output_type": "stream",
     "text": [
      "1.4142135623730951\n"
     ]
    }
   ],
   "source": [
    "arr = np.array([1, 2, 3, 4, 5])\n",
    "\n",
    "print(np.std(arr))"
   ]
  },
  {
   "cell_type": "code",
   "execution_count": 33,
   "id": "c953581a",
   "metadata": {},
   "outputs": [
    {
     "name": "stdout",
     "output_type": "stream",
     "text": [
      "3.0\n"
     ]
    }
   ],
   "source": [
    "arr = np.array([1, 2, 3, 4, 5])\n",
    "\n",
    "print(np.median(arr)) "
   ]
  },
  {
   "cell_type": "code",
   "execution_count": 34,
   "id": "8fb66ad3",
   "metadata": {},
   "outputs": [
    {
     "name": "stdout",
     "output_type": "stream",
     "text": [
      "1\n",
      "5\n"
     ]
    }
   ],
   "source": [
    "arr = np.array([1, 2, 3, 4, 5])\n",
    "\n",
    "print(np.min(arr))  # 출력: 1\n",
    "print(np.max(arr))"
   ]
  },
  {
   "cell_type": "code",
   "execution_count": 35,
   "id": "73845f57",
   "metadata": {},
   "outputs": [
    {
     "name": "stdout",
     "output_type": "stream",
     "text": [
      "15\n"
     ]
    }
   ],
   "source": [
    "arr = np.array([1, 2, 3, 4, 5])\n",
    "\n",
    "print(np.sum(arr))"
   ]
  },
  {
   "cell_type": "code",
   "execution_count": 36,
   "id": "3f0c2bb5",
   "metadata": {},
   "outputs": [
    {
     "name": "stdout",
     "output_type": "stream",
     "text": [
      "3.0\n"
     ]
    }
   ],
   "source": [
    "arr = np.array([1, 2, 3, 4, 5])\n",
    "\n",
    "print(np.percentile(arr, 50))"
   ]
  },
  {
   "cell_type": "code",
   "execution_count": 37,
   "id": "ff23d2c7",
   "metadata": {},
   "outputs": [
    {
     "name": "stdout",
     "output_type": "stream",
     "text": [
      "[4. 5. 6.]\n"
     ]
    }
   ],
   "source": [
    "arr = np.array([[1, 2, 3], [4, 5, 6], [7, 8, 9]])\n",
    "\n",
    "column_means = np.mean(arr, axis=0)\n",
    "\n",
    "print(column_means)"
   ]
  },
  {
   "cell_type": "code",
   "execution_count": 38,
   "id": "ff214adf",
   "metadata": {},
   "outputs": [
    {
     "name": "stdout",
     "output_type": "stream",
     "text": [
      "[ 6 15 24]\n"
     ]
    }
   ],
   "source": [
    "arr = np.array([[1, 2, 3], [4, 5, 6], [7, 8, 9]])\n",
    "\n",
    "row_sums = np.sum(arr, axis=1)\n",
    "\n",
    "print(row_sums)"
   ]
  },
  {
   "cell_type": "markdown",
   "id": "60a2ef2c",
   "metadata": {},
   "source": [
    "Day 19-2. Numpy 배열과 이미지 데이터의 상관 관계"
   ]
  },
  {
   "cell_type": "code",
   "execution_count": 39,
   "id": "c242a0c7",
   "metadata": {},
   "outputs": [],
   "source": [
    "import cv2"
   ]
  },
  {
   "cell_type": "code",
   "execution_count": 41,
   "id": "8a7cc578",
   "metadata": {},
   "outputs": [
    {
     "name": "stdout",
     "output_type": "stream",
     "text": [
      "[14 14 14]\n",
      "<class 'numpy.ndarray'>\n"
     ]
    }
   ],
   "source": [
    "# 이미지를 불러옴\n",
    "image = cv2.imread(\"/Users/chae/Desktop/TaiLab_Severance_Hospital/000000.jpeg\")\n",
    "\n",
    "# (10, 10) 위치의 픽셀 값을 출력\n",
    "print(image[10, 10])\n",
    "\n",
    "# (10, 10) 위치의 픽셀 값의 type을 출력\n",
    "print(type(image[10, 10]))"
   ]
  }
 ],
 "metadata": {
  "kernelspec": {
   "display_name": "wikidocs",
   "language": "python",
   "name": "python3"
  },
  "language_info": {
   "codemirror_mode": {
    "name": "ipython",
    "version": 3
   },
   "file_extension": ".py",
   "mimetype": "text/x-python",
   "name": "python",
   "nbconvert_exporter": "python",
   "pygments_lexer": "ipython3",
   "version": "3.9.23"
  }
 },
 "nbformat": 4,
 "nbformat_minor": 5
}
