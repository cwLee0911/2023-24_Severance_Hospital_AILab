{
 "cells": [
  {
   "cell_type": "code",
   "execution_count": 1,
   "id": "643268c6",
   "metadata": {},
   "outputs": [
    {
     "data": {
      "text/plain": [
       "'4.5.5'"
      ]
     },
     "execution_count": 1,
     "metadata": {},
     "output_type": "execute_result"
    }
   ],
   "source": [
    "import cv2\n",
    "cv2.__version__"
   ]
  },
  {
   "cell_type": "code",
   "execution_count": null,
   "id": "28950786",
   "metadata": {},
   "outputs": [
    {
     "name": "stdout",
     "output_type": "stream",
     "text": [
      "(2418, 2434, 3)\n"
     ]
    }
   ],
   "source": [
    "img = cv2.imread (\"/Users/chae/Desktop/TaiLab_Severance_Hospital/NORMAL-28501-0001.jpeg\")\n",
    "\n",
    "# image shape print\n",
    "print(img.shape)  # 2418 width 2343 height 3 RGB"
   ]
  },
  {
   "cell_type": "code",
   "execution_count": 3,
   "id": "c574d3b0",
   "metadata": {},
   "outputs": [
    {
     "name": "stdout",
     "output_type": "stream",
     "text": [
      "이미지가 성공적으로 저장 되었습니다.\n"
     ]
    }
   ],
   "source": [
    "#원하는 파일 경로에 이미지 저장하기\n",
    "isWritten = cv2.imwrite('NORMAL-28501-0001_save.jpeg', img)\n",
    "\n",
    "if isWritten:\n",
    "    print('이미지가 성공적으로 저장 되었습니다.') "
   ]
  }
 ],
 "metadata": {
  "kernelspec": {
   "display_name": "wikidocs",
   "language": "python",
   "name": "python3"
  },
  "language_info": {
   "codemirror_mode": {
    "name": "ipython",
    "version": 3
   },
   "file_extension": ".py",
   "mimetype": "text/x-python",
   "name": "python",
   "nbconvert_exporter": "python",
   "pygments_lexer": "ipython3",
   "version": "3.9.18"
  }
 },
 "nbformat": 4,
 "nbformat_minor": 5
}
