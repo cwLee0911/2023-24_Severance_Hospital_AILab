{
 "cells": [
  {
   "cell_type": "markdown",
   "id": "be7b0705",
   "metadata": {},
   "source": [
    "Day 16-1. 정규 표현식이란: Regular Expression"
   ]
  },
  {
   "cell_type": "markdown",
   "id": "431f0c62",
   "metadata": {},
   "source": [
    "Day 16-2. search, match, findall 함수로 문자열 찾기"
   ]
  },
  {
   "cell_type": "code",
   "execution_count": 19,
   "id": "b0885df2",
   "metadata": {},
   "outputs": [
    {
     "name": "stdout",
     "output_type": "stream",
     "text": [
      "Match\n",
      "Not Found\n"
     ]
    }
   ],
   "source": [
    "import re\n",
    "\n",
    "\n",
    "result = re.search(\"정규\", \"정규 표현식 다루기: Regular expression\")\n",
    "if result:\n",
    "    print(\"Match\")\n",
    "else:\n",
    "    print(\"Not Found\")\n",
    "# 출력: Match\n",
    "\n",
    "result = re.search(\"예시\", \"정규 표현식 다루기: Regular expression\")\n",
    "if result:\n",
    "    print(\"Match\")\n",
    "else:\n",
    "    print(\"Not Found\")"
   ]
  },
  {
   "cell_type": "code",
   "execution_count": 20,
   "id": "8366e676",
   "metadata": {},
   "outputs": [
    {
     "data": {
      "text/plain": [
       "0                                              Covid19\n",
       "1                                 SARS-CoV-2 Infection\n",
       "2                                              covid19\n",
       "3                                                COVID\n",
       "4    Maternal Fetal Infection Transmission|COVID-19...\n",
       "5                                             COVID 19\n",
       "6                      Covid19|Exclusive Breastfeeding\n",
       "7                               Covid19|Type2 Diabetes\n",
       "8                                              Covid19\n",
       "9    COVID-19 Infection|Cancer Patients|General Pop...\n",
       "Name: Conditions, dtype: object"
      ]
     },
     "execution_count": 20,
     "metadata": {},
     "output_type": "execute_result"
    }
   ],
   "source": [
    "import pandas as pd\n",
    "\n",
    "# COVID 데이터프레임으로 저장\n",
    "file_path1 = '/Users/chae/Desktop/TaiLab_Severance_Hospital/III_정형데이터_다루기/dataset/COVID clinical trials.csv'\n",
    "df = pd.read_csv(file_path1)\n",
    "df.Conditions.head(10)"
   ]
  },
  {
   "cell_type": "code",
   "execution_count": 21,
   "id": "01030cd5",
   "metadata": {},
   "outputs": [
    {
     "data": {
      "text/html": [
       "<div>\n",
       "<style scoped>\n",
       "    .dataframe tbody tr th:only-of-type {\n",
       "        vertical-align: middle;\n",
       "    }\n",
       "\n",
       "    .dataframe tbody tr th {\n",
       "        vertical-align: top;\n",
       "    }\n",
       "\n",
       "    .dataframe thead th {\n",
       "        text-align: right;\n",
       "    }\n",
       "</style>\n",
       "<table border=\"1\" class=\"dataframe\">\n",
       "  <thead>\n",
       "    <tr style=\"text-align: right;\">\n",
       "      <th></th>\n",
       "      <th>Rank</th>\n",
       "      <th>NCT Number</th>\n",
       "      <th>Conditions</th>\n",
       "    </tr>\n",
       "  </thead>\n",
       "  <tbody>\n",
       "    <tr>\n",
       "      <th>0</th>\n",
       "      <td>1</td>\n",
       "      <td>NCT04785898</td>\n",
       "      <td>Covid19</td>\n",
       "    </tr>\n",
       "    <tr>\n",
       "      <th>6</th>\n",
       "      <td>7</td>\n",
       "      <td>NCT04476940</td>\n",
       "      <td>Covid19|Exclusive Breastfeeding</td>\n",
       "    </tr>\n",
       "    <tr>\n",
       "      <th>7</th>\n",
       "      <td>8</td>\n",
       "      <td>NCT04634214</td>\n",
       "      <td>Covid19|Type2 Diabetes</td>\n",
       "    </tr>\n",
       "    <tr>\n",
       "      <th>8</th>\n",
       "      <td>9</td>\n",
       "      <td>NCT04602884</td>\n",
       "      <td>Covid19</td>\n",
       "    </tr>\n",
       "    <tr>\n",
       "      <th>11</th>\n",
       "      <td>12</td>\n",
       "      <td>NCT04412265</td>\n",
       "      <td>Covid19</td>\n",
       "    </tr>\n",
       "    <tr>\n",
       "      <th>12</th>\n",
       "      <td>13</td>\n",
       "      <td>NCT04659759</td>\n",
       "      <td>Covid19</td>\n",
       "    </tr>\n",
       "    <tr>\n",
       "      <th>14</th>\n",
       "      <td>15</td>\n",
       "      <td>NCT04842708</td>\n",
       "      <td>Covid19</td>\n",
       "    </tr>\n",
       "    <tr>\n",
       "      <th>16</th>\n",
       "      <td>17</td>\n",
       "      <td>NCT04609969</td>\n",
       "      <td>Covid19|SARS-CoV-2 Infection</td>\n",
       "    </tr>\n",
       "    <tr>\n",
       "      <th>18</th>\n",
       "      <td>19</td>\n",
       "      <td>NCT04632355</td>\n",
       "      <td>Covid19</td>\n",
       "    </tr>\n",
       "    <tr>\n",
       "      <th>19</th>\n",
       "      <td>20</td>\n",
       "      <td>NCT04407585</td>\n",
       "      <td>Covid-19</td>\n",
       "    </tr>\n",
       "  </tbody>\n",
       "</table>\n",
       "</div>"
      ],
      "text/plain": [
       "    Rank   NCT Number                       Conditions\n",
       "0      1  NCT04785898                          Covid19\n",
       "6      7  NCT04476940  Covid19|Exclusive Breastfeeding\n",
       "7      8  NCT04634214           Covid19|Type2 Diabetes\n",
       "8      9  NCT04602884                          Covid19\n",
       "11    12  NCT04412265                          Covid19\n",
       "12    13  NCT04659759                          Covid19\n",
       "14    15  NCT04842708                          Covid19\n",
       "16    17  NCT04609969     Covid19|SARS-CoV-2 Infection\n",
       "18    19  NCT04632355                          Covid19\n",
       "19    20  NCT04407585                         Covid-19"
      ]
     },
     "execution_count": 21,
     "metadata": {},
     "output_type": "execute_result"
    }
   ],
   "source": [
    "# 'Covid'로 시작하는 문자열 찾기위한 패턴 컴파일\n",
    "pattern = re.compile(\"^Covid\")\n",
    "\n",
    "# 'Conditions' 모든 값을 가져와 'Covid'로 시작하는 값을 가진 행 저장\n",
    "filtered_df = df[df['Conditions'].apply(lambda x: bool(pattern.search(x)))]\n",
    "\n",
    "# filtered_df 데이터프레임 확인\n",
    "filtered_df[['Rank', 'NCT Number','Conditions']].head(10)"
   ]
  },
  {
   "cell_type": "code",
   "execution_count": 22,
   "id": "20944136",
   "metadata": {},
   "outputs": [],
   "source": [
    "# *: 'Covi' 다음에 'd'가 0번 이상 반복되는 문자열을 찾기위한 규칙 만들기\n",
    "pattern = re.compile(\"Covid*\")\n",
    "\n",
    "# {n}: 'Covi' 다음에 'd'가 정확히 3번 반복되는 문자열 찾기위한 규칙 만들기\n",
    "pattern = re.compile(\"Covid{3}\")\n",
    "\n",
    "# {n,m}: 'Covi' 다음에 'd'가 2번에서 4번 반복되는 문자열 찾기위한 규칙 만들기\n",
    "pattern = re.compile(\"Covid {2,4}\")\n",
    "\n",
    "# [ ]: 'Covid' 뒤에 '19' 또는 '20'이 오는 문자열 찾기위한 규칙 만들기\n",
    "pattern = re.compile(\"Covid [19|20] \")"
   ]
  },
  {
   "cell_type": "code",
   "execution_count": 23,
   "id": "6d388d10",
   "metadata": {},
   "outputs": [
    {
     "data": {
      "text/html": [
       "<div>\n",
       "<style scoped>\n",
       "    .dataframe tbody tr th:only-of-type {\n",
       "        vertical-align: middle;\n",
       "    }\n",
       "\n",
       "    .dataframe tbody tr th {\n",
       "        vertical-align: top;\n",
       "    }\n",
       "\n",
       "    .dataframe thead th {\n",
       "        text-align: right;\n",
       "    }\n",
       "</style>\n",
       "<table border=\"1\" class=\"dataframe\">\n",
       "  <thead>\n",
       "    <tr style=\"text-align: right;\">\n",
       "      <th></th>\n",
       "      <th>Rank</th>\n",
       "      <th>NCT Number</th>\n",
       "      <th>Conditions</th>\n",
       "    </tr>\n",
       "  </thead>\n",
       "  <tbody>\n",
       "    <tr>\n",
       "      <th>0</th>\n",
       "      <td>1</td>\n",
       "      <td>NCT04785898</td>\n",
       "      <td>Covid19</td>\n",
       "    </tr>\n",
       "    <tr>\n",
       "      <th>6</th>\n",
       "      <td>7</td>\n",
       "      <td>NCT04476940</td>\n",
       "      <td>Covid19|Exclusive Breastfeeding</td>\n",
       "    </tr>\n",
       "    <tr>\n",
       "      <th>7</th>\n",
       "      <td>8</td>\n",
       "      <td>NCT04634214</td>\n",
       "      <td>Covid19|Type2 Diabetes</td>\n",
       "    </tr>\n",
       "    <tr>\n",
       "      <th>8</th>\n",
       "      <td>9</td>\n",
       "      <td>NCT04602884</td>\n",
       "      <td>Covid19</td>\n",
       "    </tr>\n",
       "    <tr>\n",
       "      <th>11</th>\n",
       "      <td>12</td>\n",
       "      <td>NCT04412265</td>\n",
       "      <td>Covid19</td>\n",
       "    </tr>\n",
       "    <tr>\n",
       "      <th>12</th>\n",
       "      <td>13</td>\n",
       "      <td>NCT04659759</td>\n",
       "      <td>Covid19</td>\n",
       "    </tr>\n",
       "    <tr>\n",
       "      <th>14</th>\n",
       "      <td>15</td>\n",
       "      <td>NCT04842708</td>\n",
       "      <td>Covid19</td>\n",
       "    </tr>\n",
       "    <tr>\n",
       "      <th>16</th>\n",
       "      <td>17</td>\n",
       "      <td>NCT04609969</td>\n",
       "      <td>Covid19|SARS-CoV-2 Infection</td>\n",
       "    </tr>\n",
       "    <tr>\n",
       "      <th>18</th>\n",
       "      <td>19</td>\n",
       "      <td>NCT04632355</td>\n",
       "      <td>Covid19</td>\n",
       "    </tr>\n",
       "    <tr>\n",
       "      <th>20</th>\n",
       "      <td>21</td>\n",
       "      <td>NCT04657510</td>\n",
       "      <td>Covid19|Femur Fracture|Fragility Fracture</td>\n",
       "    </tr>\n",
       "  </tbody>\n",
       "</table>\n",
       "</div>"
      ],
      "text/plain": [
       "    Rank   NCT Number                                 Conditions\n",
       "0      1  NCT04785898                                    Covid19\n",
       "6      7  NCT04476940            Covid19|Exclusive Breastfeeding\n",
       "7      8  NCT04634214                     Covid19|Type2 Diabetes\n",
       "8      9  NCT04602884                                    Covid19\n",
       "11    12  NCT04412265                                    Covid19\n",
       "12    13  NCT04659759                                    Covid19\n",
       "14    15  NCT04842708                                    Covid19\n",
       "16    17  NCT04609969               Covid19|SARS-CoV-2 Infection\n",
       "18    19  NCT04632355                                    Covid19\n",
       "20    21  NCT04657510  Covid19|Femur Fracture|Fragility Fracture"
      ]
     },
     "execution_count": 23,
     "metadata": {},
     "output_type": "execute_result"
    }
   ],
   "source": [
    "# 'Covid19' 값을 pattern2로 컴파일\n",
    "pattern2 = re.compile(\"Covid19\")\n",
    "\n",
    "#  df['Conditions']의 값 중'Covid19'로 시작하는 값을 가진 행만 데이터프레임에 저장\n",
    "filtered_df2 = df[df[ 'Conditions' ].apply(lambda x: bool( pattern2.match(x) ))]\n",
    "\n",
    "# Rank, NCT Number, Conditions 3개 열 상위 10 행 출력\n",
    "filtered_df2[['Rank', 'NCT Number','Conditions']].head(10)"
   ]
  },
  {
   "cell_type": "code",
   "execution_count": 24,
   "id": "96c1a736",
   "metadata": {},
   "outputs": [
    {
     "name": "stdout",
     "output_type": "stream",
     "text": [
      "['ex', 'ex', 'ex', 'ex']\n"
     ]
    }
   ],
   "source": [
    "import re\n",
    "\n",
    "result = re.findall(\"ex\", \"example word , example sentence exex\")\n",
    "print(result)"
   ]
  },
  {
   "cell_type": "code",
   "execution_count": 25,
   "id": "51690f6a",
   "metadata": {},
   "outputs": [
    {
     "data": {
      "text/html": [
       "<div>\n",
       "<style scoped>\n",
       "    .dataframe tbody tr th:only-of-type {\n",
       "        vertical-align: middle;\n",
       "    }\n",
       "\n",
       "    .dataframe tbody tr th {\n",
       "        vertical-align: top;\n",
       "    }\n",
       "\n",
       "    .dataframe thead th {\n",
       "        text-align: right;\n",
       "    }\n",
       "</style>\n",
       "<table border=\"1\" class=\"dataframe\">\n",
       "  <thead>\n",
       "    <tr style=\"text-align: right;\">\n",
       "      <th></th>\n",
       "      <th>Rank</th>\n",
       "      <th>NCT Number</th>\n",
       "      <th>Sponsor/Collaborators</th>\n",
       "    </tr>\n",
       "  </thead>\n",
       "  <tbody>\n",
       "    <tr>\n",
       "      <th>2</th>\n",
       "      <td>3</td>\n",
       "      <td>NCT04395482</td>\n",
       "      <td>University of Milano Bicocca</td>\n",
       "    </tr>\n",
       "    <tr>\n",
       "      <th>11</th>\n",
       "      <td>12</td>\n",
       "      <td>NCT04412265</td>\n",
       "      <td>University of Milano Bicocca</td>\n",
       "    </tr>\n",
       "    <tr>\n",
       "      <th>13</th>\n",
       "      <td>14</td>\n",
       "      <td>NCT04427332</td>\n",
       "      <td>University of Milano Bicocca</td>\n",
       "    </tr>\n",
       "    <tr>\n",
       "      <th>23</th>\n",
       "      <td>24</td>\n",
       "      <td>NCT04549831</td>\n",
       "      <td>University of Siena|Policlinico San Matteo Pav...</td>\n",
       "    </tr>\n",
       "    <tr>\n",
       "      <th>24</th>\n",
       "      <td>25</td>\n",
       "      <td>NCT04706390</td>\n",
       "      <td>University of Bergen|Haukeland University Hosp...</td>\n",
       "    </tr>\n",
       "    <tr>\n",
       "      <th>25</th>\n",
       "      <td>26</td>\n",
       "      <td>NCT04632719</td>\n",
       "      <td>University of Sao Paulo</td>\n",
       "    </tr>\n",
       "    <tr>\n",
       "      <th>26</th>\n",
       "      <td>27</td>\n",
       "      <td>NCT04427345</td>\n",
       "      <td>University of Milano Bicocca</td>\n",
       "    </tr>\n",
       "    <tr>\n",
       "      <th>28</th>\n",
       "      <td>29</td>\n",
       "      <td>NCT04407494</td>\n",
       "      <td>University Hospital, Montpellier</td>\n",
       "    </tr>\n",
       "    <tr>\n",
       "      <th>29</th>\n",
       "      <td>30</td>\n",
       "      <td>NCT04360811</td>\n",
       "      <td>University Hospital, Toulouse</td>\n",
       "    </tr>\n",
       "    <tr>\n",
       "      <th>34</th>\n",
       "      <td>35</td>\n",
       "      <td>NCT04691895</td>\n",
       "      <td>University of Bologna</td>\n",
       "    </tr>\n",
       "  </tbody>\n",
       "</table>\n",
       "</div>"
      ],
      "text/plain": [
       "    Rank   NCT Number                              Sponsor/Collaborators\n",
       "2      3  NCT04395482                       University of Milano Bicocca\n",
       "11    12  NCT04412265                       University of Milano Bicocca\n",
       "13    14  NCT04427332                       University of Milano Bicocca\n",
       "23    24  NCT04549831  University of Siena|Policlinico San Matteo Pav...\n",
       "24    25  NCT04706390  University of Bergen|Haukeland University Hosp...\n",
       "25    26  NCT04632719                            University of Sao Paulo\n",
       "26    27  NCT04427345                       University of Milano Bicocca\n",
       "28    29  NCT04407494                   University Hospital, Montpellier\n",
       "29    30  NCT04360811                      University Hospital, Toulouse\n",
       "34    35  NCT04691895                              University of Bologna"
      ]
     },
     "execution_count": 25,
     "metadata": {},
     "output_type": "execute_result"
    }
   ],
   "source": [
    "# University로 시작 (^)하는 경우 패턴으로 컴파일\n",
    "pattern3 = re.compile(\"^University\")\n",
    "\n",
    "# df['Sponsor/Collaborators']  열의 값들 중 University로 시작하는 값을 가진 행만 저장\n",
    "filtered_df3 = df[df[ 'Sponsor/Collaborators' ].apply(lambda x: bool(pattern3.findall(x)))]\n",
    "filtered_df3[['Rank', 'NCT Number','Sponsor/Collaborators']].head(10)"
   ]
  },
  {
   "cell_type": "markdown",
   "id": "e7d11232",
   "metadata": {},
   "source": [
    "Day 16-3. split, sub 함수로 문자열 분리 및 변경하기"
   ]
  },
  {
   "cell_type": "code",
   "execution_count": 26,
   "id": "5e487bc5",
   "metadata": {},
   "outputs": [
    {
     "name": "stdout",
     "output_type": "stream",
     "text": [
      "['doctor', 'patients', 'pediatrics', '', '', '']\n"
     ]
    }
   ],
   "source": [
    "# \\d: (숫자)를 패턴으로 사용하여 문자열 분할:\n",
    "result = re.split(\"\\d\", \"doctor3patients4pediatrics567\")\n",
    "print(result) "
   ]
  },
  {
   "cell_type": "code",
   "execution_count": 27,
   "id": "648bcfaf",
   "metadata": {},
   "outputs": [
    {
     "name": "stdout",
     "output_type": "stream",
     "text": [
      "['doctor', 'patients', 'pediatrics']\n"
     ]
    }
   ],
   "source": [
    "# \\s: (공백 문자)를 패턴으로 사용하여 문자열 분할 \n",
    "result = re.split(\"\\s\", \"doctor patients pediatrics\")\n",
    "print(result)  "
   ]
  },
  {
   "cell_type": "code",
   "execution_count": 28,
   "id": "99b480c3",
   "metadata": {},
   "outputs": [
    {
     "data": {
      "text/plain": [
       "0    Groupe Hospitalier Paris Saint-Joseph, Paris, ...\n",
       "1         Cimedical, Barranquilla, Atlantico, Colombia\n",
       "2    Ospedale Papa Giovanni XXIII, Bergamo, Italy|P...\n",
       "3    Hong Kong Sanatorium & Hospital, Hong Kong, Ho...\n",
       "4                         CHR Orléans, Orléans, France\n",
       "Name: Locations, dtype: object"
      ]
     },
     "execution_count": 28,
     "metadata": {},
     "output_type": "execute_result"
    }
   ],
   "source": [
    "df['Locations'].head()"
   ]
  },
  {
   "cell_type": "code",
   "execution_count": 29,
   "id": "148b3752",
   "metadata": {},
   "outputs": [
    {
     "data": {
      "text/html": [
       "<div>\n",
       "<style scoped>\n",
       "    .dataframe tbody tr th:only-of-type {\n",
       "        vertical-align: middle;\n",
       "    }\n",
       "\n",
       "    .dataframe tbody tr th {\n",
       "        vertical-align: top;\n",
       "    }\n",
       "\n",
       "    .dataframe thead th {\n",
       "        text-align: right;\n",
       "    }\n",
       "</style>\n",
       "<table border=\"1\" class=\"dataframe\">\n",
       "  <thead>\n",
       "    <tr style=\"text-align: right;\">\n",
       "      <th></th>\n",
       "      <th>Locations</th>\n",
       "      <th>Locations_split</th>\n",
       "    </tr>\n",
       "  </thead>\n",
       "  <tbody>\n",
       "    <tr>\n",
       "      <th>0</th>\n",
       "      <td>Groupe Hospitalier Paris Saint-Joseph, Paris, ...</td>\n",
       "      <td>[Groupe, Hospitalier, Paris, Saint-Joseph,, Pa...</td>\n",
       "    </tr>\n",
       "    <tr>\n",
       "      <th>1</th>\n",
       "      <td>Cimedical, Barranquilla, Atlantico, Colombia</td>\n",
       "      <td>[Cimedical,, Barranquilla,, Atlantico,, Colombia]</td>\n",
       "    </tr>\n",
       "    <tr>\n",
       "      <th>2</th>\n",
       "      <td>Ospedale Papa Giovanni XXIII, Bergamo, Italy|P...</td>\n",
       "      <td>[Ospedale, Papa, Giovanni, XXIII,, Bergamo,, I...</td>\n",
       "    </tr>\n",
       "    <tr>\n",
       "      <th>3</th>\n",
       "      <td>Hong Kong Sanatorium &amp; Hospital, Hong Kong, Ho...</td>\n",
       "      <td>[Hong, Kong, Sanatorium, &amp;, Hospital,, Hong, K...</td>\n",
       "    </tr>\n",
       "    <tr>\n",
       "      <th>4</th>\n",
       "      <td>CHR Orléans, Orléans, France</td>\n",
       "      <td>[CHR, Orléans,, Orléans,, France]</td>\n",
       "    </tr>\n",
       "  </tbody>\n",
       "</table>\n",
       "</div>"
      ],
      "text/plain": [
       "                                           Locations  \\\n",
       "0  Groupe Hospitalier Paris Saint-Joseph, Paris, ...   \n",
       "1       Cimedical, Barranquilla, Atlantico, Colombia   \n",
       "2  Ospedale Papa Giovanni XXIII, Bergamo, Italy|P...   \n",
       "3  Hong Kong Sanatorium & Hospital, Hong Kong, Ho...   \n",
       "4                       CHR Orléans, Orléans, France   \n",
       "\n",
       "                                     Locations_split  \n",
       "0  [Groupe, Hospitalier, Paris, Saint-Joseph,, Pa...  \n",
       "1  [Cimedical,, Barranquilla,, Atlantico,, Colombia]  \n",
       "2  [Ospedale, Papa, Giovanni, XXIII,, Bergamo,, I...  \n",
       "3  [Hong, Kong, Sanatorium, &, Hospital,, Hong, K...  \n",
       "4                  [CHR, Orléans,, Orléans,, France]  "
      ]
     },
     "execution_count": 29,
     "metadata": {},
     "output_type": "execute_result"
    }
   ],
   "source": [
    "df['Locations_split'] = df['Locations'].apply(lambda x: re.split(\" \", str(x)))\n",
    "df[['Locations','Locations_split']].head()"
   ]
  },
  {
   "cell_type": "code",
   "execution_count": 30,
   "id": "92ed3cf7",
   "metadata": {},
   "outputs": [
    {
     "name": "stdout",
     "output_type": "stream",
     "text": [
      "Severance hospital , Severance doctor\n"
     ]
    }
   ],
   "source": [
    "text = \"123 hospital , 456 doctor\"\n",
    "result = re.sub(\"\\\\d+\", \"Severance\", text)\n",
    "print(result)  "
   ]
  },
  {
   "cell_type": "code",
   "execution_count": 31,
   "id": "c78502c5",
   "metadata": {},
   "outputs": [
    {
     "data": {
      "text/plain": [
       "'Hong Kong Sanatorium   Hospital  Hong Kong  Hong Kong'"
      ]
     },
     "execution_count": 31,
     "metadata": {},
     "output_type": "execute_result"
    }
   ],
   "source": [
    "# 패턴: [^a-zA-Z]\n",
    "df['Locations_processed'] = df['Locations'].apply(lambda x: re.sub('[^a-zA-Z]', ' ', str(x)))\n",
    "df['Locations'][3]\n",
    "# 출력: Hong Kong Sanatorium & Hospital, Hong Kong, Hong Kong'\n",
    "\n",
    "\n",
    "# 알파벳을 제외한 모든 문자 대체\n",
    "df['Locations_processed'][3]\n",
    "# 출력: Hong Kong Sanatorium   Hospital  Hong Kong  Hong Kong"
   ]
  }
 ],
 "metadata": {
  "kernelspec": {
   "display_name": "wikidocs",
   "language": "python",
   "name": "python3"
  },
  "language_info": {
   "codemirror_mode": {
    "name": "ipython",
    "version": 3
   },
   "file_extension": ".py",
   "mimetype": "text/x-python",
   "name": "python",
   "nbconvert_exporter": "python",
   "pygments_lexer": "ipython3",
   "version": "3.9.23"
  }
 },
 "nbformat": 4,
 "nbformat_minor": 5
}
