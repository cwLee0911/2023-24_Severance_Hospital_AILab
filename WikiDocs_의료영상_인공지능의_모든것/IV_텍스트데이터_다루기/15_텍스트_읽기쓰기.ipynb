{
 "cells": [
  {
   "cell_type": "markdown",
   "id": "459ebd72",
   "metadata": {},
   "source": [
    "Day 15-1. 파일 읽고 쓰기"
   ]
  },
  {
   "cell_type": "code",
   "execution_count": 18,
   "id": "e7b481ed",
   "metadata": {},
   "outputs": [],
   "source": [
    "# 새로운 빈 파일 생성\n",
    "file = open(\"example_file.txt\" , \"w\")\n",
    "\n",
    "# 생성된 파일에 \"의료인을 위한 실전 의료영상 데이터 다루기\" 텍스트 쓰기\n",
    "file.write(\"의료인을 위한 실전 의료영상 데이터 다루기\")\n",
    "file.close() # 파일 닫기\n",
    "\n",
    "\n",
    "# with 구문 사용시: (둘중 하나 선택)\n",
    "with open( 'example_file.txt', 'w' ) as file:\n",
    "    file.write( \"의료인을 위한 실전 의료영상 데이터 다루기\" )"
   ]
  },
  {
   "cell_type": "code",
   "execution_count": 19,
   "id": "f41691a8",
   "metadata": {},
   "outputs": [
    {
     "name": "stdout",
     "output_type": "stream",
     "text": [
      "신촌에 위치한 세브란스 병원에는 100 명의 의료진들이 대기하고 있습니다.\n"
     ]
    }
   ],
   "source": [
    "hospital_name = \"세브란스 병원\"\n",
    "number_of_doctors = 100\n",
    "\n",
    "message = f\"신촌에 위치한 {hospital_name}에는 {number_of_doctors} 명의 의료진들이 대기하고 있습니다.\"\n",
    "print(message)"
   ]
  },
  {
   "cell_type": "markdown",
   "id": "2bd385aa",
   "metadata": {},
   "source": [
    "Day 15-2. 텍스트 파일 생성 및 수정"
   ]
  },
  {
   "cell_type": "code",
   "execution_count": 20,
   "id": "ebbe34e9",
   "metadata": {},
   "outputs": [
    {
     "name": "stdout",
     "output_type": "stream",
     "text": [
      "의료인을 위한 실전 의료영상 데이터 다루기\n"
     ]
    }
   ],
   "source": [
    "file = open(\"example_file.txt\" , \"r\")\n",
    "content = file.read()\n",
    "print(content) # 읽어온 파일 출력\n",
    "file.close() # 파일 닫기"
   ]
  },
  {
   "cell_type": "code",
   "execution_count": 21,
   "id": "54976e56",
   "metadata": {},
   "outputs": [
    {
     "name": "stdout",
     "output_type": "stream",
     "text": [
      "의료인을 위한 실전 의료영상 데이터 다루기\n"
     ]
    }
   ],
   "source": [
    "# with 구문 사용시:\n",
    "with open(\"example_file.txt\", \"r\") as file:\n",
    "  content = file.read()\n",
    "  print(content)"
   ]
  },
  {
   "cell_type": "code",
   "execution_count": 22,
   "id": "dc71e412",
   "metadata": {},
   "outputs": [
    {
     "name": "stdout",
     "output_type": "stream",
     "text": [
      "의료인을 위한 실전 의료영상 데이터 다루기\n"
     ]
    }
   ],
   "source": [
    "# with 구문 사용시:\n",
    "with open(\"example_file.txt\", \"r\") as file:\n",
    "  content = file.read()\n",
    "  print(content)"
   ]
  },
  {
   "cell_type": "markdown",
   "id": "ef113a3a",
   "metadata": {},
   "source": [
    "Day 15-3. 기존파일 문자 변경 및 파일관리"
   ]
  },
  {
   "cell_type": "code",
   "execution_count": 23,
   "id": "da8a6f2b",
   "metadata": {},
   "outputs": [
    {
     "data": {
      "text/plain": [
       "'의료인을 위한 실전 의료영상 데이터 다루기'"
      ]
     },
     "execution_count": 23,
     "metadata": {},
     "output_type": "execute_result"
    }
   ],
   "source": [
    "# 기존파일 내용 content에 저장\n",
    "with open(\"example_file.txt\", \"r\", encoding=\"utf-8\") as file:\n",
    "    content = file.read()\n",
    "\n",
    "# 'Version' 을 '버전' 으로 변경\n",
    "content = content.replace(\"Version\", \",버전\")\n",
    "\n",
    "# 변경된 내용을 파일에 다시 저장\n",
    "with open(\"example_file.txt\", \"w\", encoding=\"utf-8\") as file:\n",
    "    file.write(content)\n",
    "\n",
    "content"
   ]
  },
  {
   "cell_type": "code",
   "execution_count": 24,
   "id": "ffdf3bb0",
   "metadata": {},
   "outputs": [
    {
     "name": "stdout",
     "output_type": "stream",
     "text": [
      "변경전: 의료인을 위한 실전 의료영상 데이터 다루기\n"
     ]
    }
   ],
   "source": [
    "# 기존파일 내용 content에 저장\n",
    "with open(\"example_file.txt\", \"r\", encoding = 'utf-8') as file:\n",
    "    content = file.read()\n",
    "\n",
    "# 기존파일 문자열:\n",
    "print(\"변경전:\",content)\n",
    "# 출력: 의료인을 위한 실전 의료영상 데이터 다루기 ,버전 0.0.1\n",
    "\n",
    "# 기존파일 문자열에 특정 부분 다른 문자열로 변경\n",
    "update = content.replace(\"의료인을 위한 실전 의료영상 데이터 다루기\",\n",
    "                         \"의료인을 위한 하루에 10분씩 100일 실전 의료영상 데이터 다루기\")"
   ]
  },
  {
   "cell_type": "code",
   "execution_count": 25,
   "id": "e07322f7",
   "metadata": {},
   "outputs": [
    {
     "name": "stdout",
     "output_type": "stream",
     "text": [
      "변경후: 의료인을 위한 하루에 10분씩 100일 실전 의료영상 데이터 다루기\n"
     ]
    }
   ],
   "source": [
    "# 변경된 내용을 파일에 다시 저장\n",
    "with open(\"example_file.txt\", \"w\", encoding='utf-8') as file:\n",
    "    file.write(update)\n",
    "\n",
    "# 변경 후 문자열:\n",
    "print(\"변경후:\", update)"
   ]
  },
  {
   "cell_type": "code",
   "execution_count": 26,
   "id": "e28e1058",
   "metadata": {},
   "outputs": [
    {
     "name": "stdout",
     "output_type": "stream",
     "text": [
      "의료인을 위한 하루에 10분씩 100일 실전 의료영상 데이터 다루기\n"
     ]
    }
   ],
   "source": [
    "with open(\"example_file.txt\" , 'r') as file:\n",
    "  for line in file:\n",
    "    print (line.strip())"
   ]
  },
  {
   "cell_type": "code",
   "execution_count": 27,
   "id": "de33593d",
   "metadata": {},
   "outputs": [
    {
     "name": "stdout",
     "output_type": "stream",
     "text": [
      "의료인책, 100일!\n"
     ]
    }
   ],
   "source": [
    "text = \"___의료인책, 100일!___\"\n",
    "# 공백이 아닌 '_' 문자열을 정리할시:\n",
    "cleaned_text = text.strip(\"_\")\n",
    "print(cleaned_text)"
   ]
  },
  {
   "cell_type": "code",
   "execution_count": 28,
   "id": "c9e279d4",
   "metadata": {},
   "outputs": [],
   "source": [
    "import os\n",
    "os.rename(\"example_file.txt\" , \"title_name.txt\" )"
   ]
  },
  {
   "cell_type": "code",
   "execution_count": 29,
   "id": "2041ce0a",
   "metadata": {},
   "outputs": [],
   "source": [
    "os.remove(\"title_name.txt\")\n",
    "\n",
    "# # 만약 출력시:\n",
    "# file = open(\"title_name.txt\", \"r\") \n",
    "# # 에러 출력: No such file or directory: 'title_name.txt'\n",
    "# file = open(\"example_file.txt\", \"r\") \n",
    "# # 에러 출력: No such file or directory: 'example_file.txt'"
   ]
  }
 ],
 "metadata": {
  "kernelspec": {
   "display_name": "wikidocs",
   "language": "python",
   "name": "python3"
  },
  "language_info": {
   "codemirror_mode": {
    "name": "ipython",
    "version": 3
   },
   "file_extension": ".py",
   "mimetype": "text/x-python",
   "name": "python",
   "nbconvert_exporter": "python",
   "pygments_lexer": "ipython3",
   "version": "3.9.23"
  }
 },
 "nbformat": 4,
 "nbformat_minor": 5
}
