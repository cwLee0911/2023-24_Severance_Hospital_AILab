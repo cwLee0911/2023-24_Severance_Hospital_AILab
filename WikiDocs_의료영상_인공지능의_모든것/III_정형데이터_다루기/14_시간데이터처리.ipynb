{
 "cells": [
  {
   "cell_type": "markdown",
   "id": "f16950fc",
   "metadata": {},
   "source": [
    "Day 14-1. 시간데이터 생성하기"
   ]
  },
  {
   "cell_type": "code",
   "execution_count": 1,
   "id": "6836e089",
   "metadata": {},
   "outputs": [
    {
     "data": {
      "text/plain": [
       "datetime.date(2023, 9, 8)"
      ]
     },
     "execution_count": 1,
     "metadata": {},
     "output_type": "execute_result"
    }
   ],
   "source": [
    "from datetime import date\n",
    "\n",
    "dy1 = date(2023, 9, 8)\n",
    "dy1"
   ]
  },
  {
   "cell_type": "code",
   "execution_count": 2,
   "id": "c6493d73",
   "metadata": {},
   "outputs": [
    {
     "name": "stdout",
     "output_type": "stream",
     "text": [
      "2025-07-22\n",
      "Day : 22\n",
      "Month : 7\n",
      "Year : 2025\n"
     ]
    }
   ],
   "source": [
    "dy2 = date.today()\n",
    "print(dy2)\n",
    "\n",
    "# 날짜 일, 월, 년 정보를 순서대로 출력\n",
    "print('Day :' , dy2.day)\n",
    "print('Month :' , dy2.month)\n",
    "print('Year :' , dy2.year)"
   ]
  },
  {
   "cell_type": "code",
   "execution_count": 3,
   "id": "568f818e",
   "metadata": {},
   "outputs": [
    {
     "name": "stdout",
     "output_type": "stream",
     "text": [
      "13:20:13.000040\n"
     ]
    }
   ],
   "source": [
    "from datetime import time\n",
    "# 시간 객체 생성: 시, 분, 초, 마이크로초\n",
    "tm1 = time(13, 20, 13, 40)\n",
    "print(tm1)"
   ]
  },
  {
   "cell_type": "code",
   "execution_count": 4,
   "id": "d9a16204",
   "metadata": {},
   "outputs": [
    {
     "name": "stdout",
     "output_type": "stream",
     "text": [
      "Hour : 13\n",
      "Minute : 20\n",
      "Second : 13\n",
      "Microsecond : 40\n"
     ]
    }
   ],
   "source": [
    "print('Hour :' , tm1.hour)\n",
    "print('Minute :' , tm1.minute)\n",
    "print('Second :' , tm1.second)\n",
    "print('Microsecond :' , tm1.microsecond)"
   ]
  },
  {
   "cell_type": "code",
   "execution_count": 5,
   "id": "37cae693",
   "metadata": {},
   "outputs": [
    {
     "name": "stdout",
     "output_type": "stream",
     "text": [
      "DatetimeIndex(['2023-01-01', '2023-01-01', '2023-01-01'], dtype='datetime64[ns]', freq=None)\n"
     ]
    }
   ],
   "source": [
    "import datetime\n",
    "import numpy as np\n",
    "import pandas as pd\n",
    "\n",
    "# 다양한 날짜 형식: 1/1/2023 , 2023-01-01 , 2023,1,1\n",
    "dti = pd.to_datetime([\"1/1/2023\", np.datetime64(\"2023-01-01\"), datetime.datetime(2023, 1, 1)])\n",
    "print(dti)"
   ]
  },
  {
   "cell_type": "code",
   "execution_count": 6,
   "id": "a69e5076",
   "metadata": {},
   "outputs": [
    {
     "data": {
      "text/plain": [
       "Timestamp('2023-09-08 10:09:00')"
      ]
     },
     "execution_count": 6,
     "metadata": {},
     "output_type": "execute_result"
    }
   ],
   "source": [
    "# 2023년 9월 8일\n",
    "pd.to_datetime(\"2023/09/08\", format = \"%Y/%m/%d\")\n",
    "\n",
    "\n",
    "# 2023년 9월 8일 10시 9분\n",
    "pd.to_datetime(\"08-09-2023 10:09\", format = \"%d-%m-%Y %H:%M\")"
   ]
  },
  {
   "cell_type": "code",
   "execution_count": 7,
   "id": "b0ca8ea9",
   "metadata": {},
   "outputs": [
    {
     "name": "stdout",
     "output_type": "stream",
     "text": [
      "         Start Date   Completion Date\n",
      "0  November 9, 2020    April 30, 2021\n",
      "1  November 2, 2020  January 29, 2021\n",
      "2       May 7, 2020     June 15, 2021\n",
      "object\n"
     ]
    }
   ],
   "source": [
    "covid_path = '/Users/chae/Documents/GitHub/2023-24_Severance_Hospital/WikiDocs_의료영상_인공지능의_모든것/III_정형데이터_다루기/dataset/COVID clinical trials.csv'\n",
    "# COVID 데이터 불러오기\n",
    "df = pd.read_csv(covid_path)\n",
    "# COVID 각 열 2개 상위 3행으로 데이터프레임 생성\n",
    "test = df[['Start Date', 'Completion Date']].head(3)\n",
    "print (test)\n",
    "print (df['Start Date'].dtype)"
   ]
  },
  {
   "cell_type": "code",
   "execution_count": 8,
   "id": "98c1210b",
   "metadata": {},
   "outputs": [
    {
     "name": "stdout",
     "output_type": "stream",
     "text": [
      "         Start Date   Completion Date      d_std\n",
      "0  November 9, 2020    April 30, 2021 2020-11-09\n",
      "1  November 2, 2020  January 29, 2021 2020-11-02\n",
      "2       May 7, 2020     June 15, 2021 2020-05-07\n"
     ]
    }
   ],
   "source": [
    "# datetime.strptime 함수로 날짜 객체 (%B %d, %Y)로 설정\n",
    "test['d_std'] = test['Start Date'].apply(lambda x: datetime.datetime.strptime(x, '%B %d, %Y'))\n",
    "print(test)"
   ]
  },
  {
   "cell_type": "code",
   "execution_count": 9,
   "id": "80d9559b",
   "metadata": {},
   "outputs": [
    {
     "name": "stdout",
     "output_type": "stream",
     "text": [
      "datetime64[ns]\n"
     ]
    }
   ],
   "source": [
    "column_dtype = test['d_std'].dtype\n",
    "print(column_dtype)"
   ]
  },
  {
   "cell_type": "code",
   "execution_count": 10,
   "id": "cfc933a2",
   "metadata": {},
   "outputs": [
    {
     "data": {
      "text/html": [
       "<div>\n",
       "<style scoped>\n",
       "    .dataframe tbody tr th:only-of-type {\n",
       "        vertical-align: middle;\n",
       "    }\n",
       "\n",
       "    .dataframe tbody tr th {\n",
       "        vertical-align: top;\n",
       "    }\n",
       "\n",
       "    .dataframe thead th {\n",
       "        text-align: right;\n",
       "    }\n",
       "</style>\n",
       "<table border=\"1\" class=\"dataframe\">\n",
       "  <thead>\n",
       "    <tr style=\"text-align: right;\">\n",
       "      <th></th>\n",
       "      <th>Start Date</th>\n",
       "      <th>Completion Date</th>\n",
       "      <th>d_std</th>\n",
       "      <th>d_std_date</th>\n",
       "    </tr>\n",
       "  </thead>\n",
       "  <tbody>\n",
       "    <tr>\n",
       "      <th>0</th>\n",
       "      <td>November 9, 2020</td>\n",
       "      <td>April 30, 2021</td>\n",
       "      <td>2020-11-09</td>\n",
       "      <td>09/11/2020 00:00</td>\n",
       "    </tr>\n",
       "    <tr>\n",
       "      <th>1</th>\n",
       "      <td>November 2, 2020</td>\n",
       "      <td>January 29, 2021</td>\n",
       "      <td>2020-11-02</td>\n",
       "      <td>02/11/2020 00:00</td>\n",
       "    </tr>\n",
       "    <tr>\n",
       "      <th>2</th>\n",
       "      <td>May 7, 2020</td>\n",
       "      <td>June 15, 2021</td>\n",
       "      <td>2020-05-07</td>\n",
       "      <td>07/05/2020 00:00</td>\n",
       "    </tr>\n",
       "  </tbody>\n",
       "</table>\n",
       "</div>"
      ],
      "text/plain": [
       "         Start Date   Completion Date      d_std        d_std_date\n",
       "0  November 9, 2020    April 30, 2021 2020-11-09  09/11/2020 00:00\n",
       "1  November 2, 2020  January 29, 2021 2020-11-02  02/11/2020 00:00\n",
       "2       May 7, 2020     June 15, 2021 2020-05-07  07/05/2020 00:00"
      ]
     },
     "execution_count": 10,
     "metadata": {},
     "output_type": "execute_result"
    }
   ],
   "source": [
    "# date (2자리)/ month (2자리)/ year (4자리) hour (24시간) : minute (2자리) 로 표현\n",
    "test['d_std_date'] = test['d_std'].apply(lambda x: x.strftime('%d/%m/%Y %H:%M'))\n",
    "test"
   ]
  },
  {
   "cell_type": "code",
   "execution_count": 11,
   "id": "dce5929a",
   "metadata": {},
   "outputs": [
    {
     "data": {
      "text/html": [
       "<div>\n",
       "<style scoped>\n",
       "    .dataframe tbody tr th:only-of-type {\n",
       "        vertical-align: middle;\n",
       "    }\n",
       "\n",
       "    .dataframe tbody tr th {\n",
       "        vertical-align: top;\n",
       "    }\n",
       "\n",
       "    .dataframe thead th {\n",
       "        text-align: right;\n",
       "    }\n",
       "</style>\n",
       "<table border=\"1\" class=\"dataframe\">\n",
       "  <thead>\n",
       "    <tr style=\"text-align: right;\">\n",
       "      <th></th>\n",
       "      <th>Start Date</th>\n",
       "      <th>Completion Date</th>\n",
       "      <th>d_std</th>\n",
       "      <th>d_std_date</th>\n",
       "      <th>d_comp</th>\n",
       "      <th>duration</th>\n",
       "    </tr>\n",
       "  </thead>\n",
       "  <tbody>\n",
       "    <tr>\n",
       "      <th>0</th>\n",
       "      <td>November 9, 2020</td>\n",
       "      <td>April 30, 2021</td>\n",
       "      <td>2020-11-09</td>\n",
       "      <td>09/11/2020 00:00</td>\n",
       "      <td>2021-04-30</td>\n",
       "      <td>172 days</td>\n",
       "    </tr>\n",
       "    <tr>\n",
       "      <th>1</th>\n",
       "      <td>November 2, 2020</td>\n",
       "      <td>January 29, 2021</td>\n",
       "      <td>2020-11-02</td>\n",
       "      <td>02/11/2020 00:00</td>\n",
       "      <td>2021-01-29</td>\n",
       "      <td>88 days</td>\n",
       "    </tr>\n",
       "    <tr>\n",
       "      <th>2</th>\n",
       "      <td>May 7, 2020</td>\n",
       "      <td>June 15, 2021</td>\n",
       "      <td>2020-05-07</td>\n",
       "      <td>07/05/2020 00:00</td>\n",
       "      <td>2021-06-15</td>\n",
       "      <td>404 days</td>\n",
       "    </tr>\n",
       "  </tbody>\n",
       "</table>\n",
       "</div>"
      ],
      "text/plain": [
       "         Start Date   Completion Date      d_std        d_std_date     d_comp  \\\n",
       "0  November 9, 2020    April 30, 2021 2020-11-09  09/11/2020 00:00 2021-04-30   \n",
       "1  November 2, 2020  January 29, 2021 2020-11-02  02/11/2020 00:00 2021-01-29   \n",
       "2       May 7, 2020     June 15, 2021 2020-05-07  07/05/2020 00:00 2021-06-15   \n",
       "\n",
       "  duration  \n",
       "0 172 days  \n",
       "1  88 days  \n",
       "2 404 days  "
      ]
     },
     "execution_count": 11,
     "metadata": {},
     "output_type": "execute_result"
    }
   ],
   "source": [
    "# Start Date와 Completion Date를 timedelta 객체로 변환\n",
    "\n",
    "test['d_std'] = pd.to_datetime(test['Start Date'], format='%B %d, %Y', errors='coerce')\n",
    "test['d_comp'] = pd.to_datetime(test['Completion Date'], format='%B %d, %Y', errors='coerce')\n",
    "\n",
    "test['duration'] = test['d_comp'] - test['d_std']\n",
    "test"
   ]
  },
  {
   "cell_type": "code",
   "execution_count": 12,
   "id": "b8677d8d",
   "metadata": {},
   "outputs": [
    {
     "data": {
      "text/html": [
       "<div>\n",
       "<style scoped>\n",
       "    .dataframe tbody tr th:only-of-type {\n",
       "        vertical-align: middle;\n",
       "    }\n",
       "\n",
       "    .dataframe tbody tr th {\n",
       "        vertical-align: top;\n",
       "    }\n",
       "\n",
       "    .dataframe thead th {\n",
       "        text-align: right;\n",
       "    }\n",
       "</style>\n",
       "<table border=\"1\" class=\"dataframe\">\n",
       "  <thead>\n",
       "    <tr style=\"text-align: right;\">\n",
       "      <th></th>\n",
       "      <th>Start Date</th>\n",
       "      <th>Completion Date</th>\n",
       "      <th>d_std</th>\n",
       "      <th>d_std_date</th>\n",
       "      <th>d_comp</th>\n",
       "      <th>duration</th>\n",
       "      <th>duration_hr</th>\n",
       "      <th>duration_min</th>\n",
       "      <th>duration_sec</th>\n",
       "    </tr>\n",
       "  </thead>\n",
       "  <tbody>\n",
       "    <tr>\n",
       "      <th>0</th>\n",
       "      <td>November 9, 2020</td>\n",
       "      <td>April 30, 2021</td>\n",
       "      <td>2020-11-09</td>\n",
       "      <td>09/11/2020 00:00</td>\n",
       "      <td>2021-04-30</td>\n",
       "      <td>172 days</td>\n",
       "      <td>4128.0</td>\n",
       "      <td>247680.0</td>\n",
       "      <td>14860800.0</td>\n",
       "    </tr>\n",
       "    <tr>\n",
       "      <th>1</th>\n",
       "      <td>November 2, 2020</td>\n",
       "      <td>January 29, 2021</td>\n",
       "      <td>2020-11-02</td>\n",
       "      <td>02/11/2020 00:00</td>\n",
       "      <td>2021-01-29</td>\n",
       "      <td>88 days</td>\n",
       "      <td>2112.0</td>\n",
       "      <td>126720.0</td>\n",
       "      <td>7603200.0</td>\n",
       "    </tr>\n",
       "    <tr>\n",
       "      <th>2</th>\n",
       "      <td>May 7, 2020</td>\n",
       "      <td>June 15, 2021</td>\n",
       "      <td>2020-05-07</td>\n",
       "      <td>07/05/2020 00:00</td>\n",
       "      <td>2021-06-15</td>\n",
       "      <td>404 days</td>\n",
       "      <td>9696.0</td>\n",
       "      <td>581760.0</td>\n",
       "      <td>34905600.0</td>\n",
       "    </tr>\n",
       "  </tbody>\n",
       "</table>\n",
       "</div>"
      ],
      "text/plain": [
       "         Start Date   Completion Date      d_std        d_std_date     d_comp  \\\n",
       "0  November 9, 2020    April 30, 2021 2020-11-09  09/11/2020 00:00 2021-04-30   \n",
       "1  November 2, 2020  January 29, 2021 2020-11-02  02/11/2020 00:00 2021-01-29   \n",
       "2       May 7, 2020     June 15, 2021 2020-05-07  07/05/2020 00:00 2021-06-15   \n",
       "\n",
       "  duration  duration_hr  duration_min  duration_sec  \n",
       "0 172 days       4128.0      247680.0    14860800.0  \n",
       "1  88 days       2112.0      126720.0     7603200.0  \n",
       "2 404 days       9696.0      581760.0    34905600.0  "
      ]
     },
     "execution_count": 12,
     "metadata": {},
     "output_type": "execute_result"
    }
   ],
   "source": [
    "from datetime import datetime, timedelta\n",
    "test['duration_hr'] = test['duration'].apply(lambda x: x/timedelta(hours = 1))\n",
    "test['duration_min'] = test['duration'].apply(lambda x: x/timedelta(minutes = 1))\n",
    "test['duration_sec'] = test['duration'].apply(lambda x: x/timedelta(seconds = 1))\n",
    "test"
   ]
  }
 ],
 "metadata": {
  "kernelspec": {
   "display_name": "wikidocs",
   "language": "python",
   "name": "python3"
  },
  "language_info": {
   "codemirror_mode": {
    "name": "ipython",
    "version": 3
   },
   "file_extension": ".py",
   "mimetype": "text/x-python",
   "name": "python",
   "nbconvert_exporter": "python",
   "pygments_lexer": "ipython3",
   "version": "3.9.16"
  }
 },
 "nbformat": 4,
 "nbformat_minor": 5
}
